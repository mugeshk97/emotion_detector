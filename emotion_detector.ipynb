{
 "cells": [
  {
   "cell_type": "code",
   "execution_count": 0,
   "metadata": {
    "colab": {},
    "colab_type": "code",
    "id": "zRfZ_vXkEGH2"
   },
   "outputs": [],
   "source": [
    "# import dependencies\n",
    "import pandas as pd\n",
    "import numpy as np\n",
    "import matplotlib.pyplot as plt\n",
    "from sklearn.model_selection import train_test_split\n",
    "from sklearn.metrics import confusion_matrix,accuracy_score,classification_report\n",
    "from tensorflow.keras.layers import Dense,Conv2D,MaxPooling2D,BatchNormalization,Dropout,Flatten\n",
    "from tensorflow.keras.callbacks import ReduceLROnPlateau\n",
    "from tensorflow.keras.models import Sequential,load_model,save_model,model_from_json\n",
    "from tensorflow.keras.optimizers import Adam\n",
    "from tensorflow.keras import utils"
   ]
  },
  {
   "cell_type": "code",
   "execution_count": 0,
   "metadata": {
    "colab": {},
    "colab_type": "code",
    "id": "ErOyjfBcEGIE"
   },
   "outputs": [],
   "source": [
    "data=pd.read_csv('fer2013.csv')"
   ]
  },
  {
   "cell_type": "code",
   "execution_count": 3,
   "metadata": {
    "colab": {
     "base_uri": "https://localhost:8080/",
     "height": 185
    },
    "colab_type": "code",
    "id": "Ep2RcfJ3EGIH",
    "outputId": "5e2aca17-69a4-4737-a04b-b4d37e137733"
   },
   "outputs": [
    {
     "name": "stdout",
     "output_type": "stream",
     "text": [
      "<class 'pandas.core.frame.DataFrame'>\n",
      "RangeIndex: 35887 entries, 0 to 35886\n",
      "Data columns (total 3 columns):\n",
      " #   Column   Non-Null Count  Dtype \n",
      "---  ------   --------------  ----- \n",
      " 0   emotion  35887 non-null  int64 \n",
      " 1   pixels   35887 non-null  object\n",
      " 2   Usage    35887 non-null  object\n",
      "dtypes: int64(1), object(2)\n",
      "memory usage: 841.2+ KB\n"
     ]
    }
   ],
   "source": [
    "data.info()"
   ]
  },
  {
   "cell_type": "code",
   "execution_count": 0,
   "metadata": {
    "colab": {},
    "colab_type": "code",
    "id": "ij6iTOV3EGIL"
   },
   "outputs": [],
   "source": [
    "y = data.emotion.values\n",
    "y = utils.to_categorical(y)"
   ]
  },
  {
   "cell_type": "markdown",
   "metadata": {},
   "source": [
    "*DATA PREPROCESSING*"
   ]
  },
  {
   "cell_type": "code",
   "execution_count": 0,
   "metadata": {
    "colab": {},
    "colab_type": "code",
    "id": "ymRdkCXAEGIO"
   },
   "outputs": [],
   "source": [
    "def process (data,size):\n",
    "    x=[]\n",
    "    for i in range(0,len(data)):\n",
    "        image=data[i].split(' ')\n",
    "        image=np.array(image).astype(float)\n",
    "        image=image/255\n",
    "        image= image.reshape(size)\n",
    "        x.append(image)\n",
    "    return x"
   ]
  },
  {
   "cell_type": "code",
   "execution_count": 0,
   "metadata": {
    "colab": {},
    "colab_type": "code",
    "id": "NqL3aqCFEGIR"
   },
   "outputs": [],
   "source": [
    "X=process(data.pixels,(48,48))"
   ]
  },
  {
   "cell_type": "code",
   "execution_count": 7,
   "metadata": {
    "colab": {
     "base_uri": "https://localhost:8080/",
     "height": 284
    },
    "colab_type": "code",
    "id": "-oSxEl7UEGIU",
    "outputId": "2fba1424-8649-4380-b702-822dc96254df"
   },
   "outputs": [
    {
     "data": {
      "text/plain": [
       "<matplotlib.image.AxesImage at 0x7fc073bf9400>"
      ]
     },
     "execution_count": 7,
     "metadata": {
      "tags": []
     },
     "output_type": "execute_result"
    },
    {
     "data": {
      "image/png": "[encoded data removed]",
      "text/plain": [
       "<Figure size 432x288 with 1 Axes>"
      ]
     },
     "metadata": {
      "needs_background": "light",
      "tags": []
     },
     "output_type": "display_data"
    }
   ],
   "source": [
    "plt.imshow(X[8774])"
   ]
  },
  {
   "cell_type": "code",
   "execution_count": 0,
   "metadata": {
    "colab": {},
    "colab_type": "code",
    "id": "zGiiNgrjEGIY"
   },
   "outputs": [],
   "source": [
    "X=np.expand_dims(X,3)"
   ]
  },
  {
   "cell_type": "code",
   "execution_count": 9,
   "metadata": {
    "colab": {
     "base_uri": "https://localhost:8080/",
     "height": 34
    },
    "colab_type": "code",
    "id": "QlcYuYG-EGIa",
    "outputId": "3d9202b2-4ee7-474f-ae0a-9ff05ec940f0"
   },
   "outputs": [
    {
     "data": {
      "text/plain": [
       "(48, 48, 1)"
      ]
     },
     "execution_count": 9,
     "metadata": {
      "tags": []
     },
     "output_type": "execute_result"
    }
   ],
   "source": [
    "X.shape[1:]"
   ]
  },
  {
   "cell_type": "code",
   "execution_count": 0,
   "metadata": {
    "colab": {},
    "colab_type": "code",
    "id": "owlG6rZGG_IC"
   },
   "outputs": [],
   "source": [
    "x_train,x_test,y_train,y_test=train_test_split(X,y,test_size=0.1,random_state=101)"
   ]
  },
  {
   "cell_type": "markdown",
   "metadata": {},
   "source": [
    "*BUILDING THE MODEL*"
   ]
  },
  {
   "cell_type": "code",
   "execution_count": 11,
   "metadata": {
    "colab": {
     "base_uri": "https://localhost:8080/",
     "height": 823
    },
    "colab_type": "code",
    "id": "k89Scr3YEGId",
    "outputId": "d323f89e-93ef-470a-e7b3-ec7be37bdc44"
   },
   "outputs": [
    {
     "name": "stdout",
     "output_type": "stream",
     "text": [
      "Model: \"sequential\"\n",
      "_________________________________________________________________\n",
      "Layer (type)                 Output Shape              Param #   \n",
      "=================================================================\n",
      "conv2d (Conv2D)              (None, 48, 48, 64)        1664      \n",
      "_________________________________________________________________\n",
      "conv2d_1 (Conv2D)            (None, 48, 48, 64)        102464    \n",
      "_________________________________________________________________\n",
      "batch_normalization (BatchNo (None, 48, 48, 64)        256       \n",
      "_________________________________________________________________\n",
      "max_pooling2d (MaxPooling2D) (None, 24, 24, 64)        0         \n",
      "_________________________________________________________________\n",
      "dropout (Dropout)            (None, 24, 24, 64)        0         \n",
      "_________________________________________________________________\n",
      "conv2d_2 (Conv2D)            (None, 24, 24, 128)       204928    \n",
      "_________________________________________________________________\n",
      "conv2d_3 (Conv2D)            (None, 24, 24, 128)       409728    \n",
      "_________________________________________________________________\n",
      "batch_normalization_1 (Batch (None, 24, 24, 128)       512       \n",
      "_________________________________________________________________\n",
      "max_pooling2d_1 (MaxPooling2 (None, 12, 12, 128)       0         \n",
      "_________________________________________________________________\n",
      "dropout_1 (Dropout)          (None, 12, 12, 128)       0         \n",
      "_________________________________________________________________\n",
      "conv2d_4 (Conv2D)            (None, 12, 12, 256)       295168    \n",
      "_________________________________________________________________\n",
      "conv2d_5 (Conv2D)            (None, 12, 12, 256)       1638656   \n",
      "_________________________________________________________________\n",
      "batch_normalization_2 (Batch (None, 12, 12, 256)       1024      \n",
      "_________________________________________________________________\n",
      "max_pooling2d_2 (MaxPooling2 (None, 6, 6, 256)         0         \n",
      "_________________________________________________________________\n",
      "dropout_2 (Dropout)          (None, 6, 6, 256)         0         \n",
      "_________________________________________________________________\n",
      "flatten (Flatten)            (None, 9216)              0         \n",
      "_________________________________________________________________\n",
      "dense (Dense)                (None, 128)               1179776   \n",
      "_________________________________________________________________\n",
      "batch_normalization_3 (Batch (None, 128)               512       \n",
      "_________________________________________________________________\n",
      "dropout_3 (Dropout)          (None, 128)               0         \n",
      "_________________________________________________________________\n",
      "dense_1 (Dense)              (None, 7)                 903       \n",
      "=================================================================\n",
      "Total params: 3,835,591\n",
      "Trainable params: 3,834,439\n",
      "Non-trainable params: 1,152\n",
      "_________________________________________________________________\n"
     ]
    }
   ],
   "source": [
    "# Initialising the CNN\n",
    "model = Sequential()\n",
    "\n",
    "# 1 - Convolution\n",
    "model.add(Conv2D(64,(5,5), padding='same',activation='relu',input_shape=X.shape[1:]))\n",
    "model.add(Conv2D(64,(5,5), padding='same',activation='relu'))\n",
    "model.add(BatchNormalization())\n",
    "model.add(MaxPooling2D(pool_size=(2, 2)))\n",
    "model.add(Dropout(0.25))\n",
    "\n",
    "# 2nd Convolution layer\n",
    "model.add(Conv2D(128,(5,5), padding='same',activation='relu'))\n",
    "model.add(Conv2D(128,(5,5), padding='same',activation='relu'))\n",
    "\n",
    "model.add(BatchNormalization())\n",
    "model.add(MaxPooling2D(pool_size=(2, 2)))\n",
    "model.add(Dropout(0.25))\n",
    "\n",
    "# 3rd Convolution layer\n",
    "model.add(Conv2D(256,(3,3), padding='same',activation='relu'))\n",
    "model.add(Conv2D(256,(5,5), padding='same',activation='relu'))\n",
    "\n",
    "model.add(BatchNormalization())\n",
    "model.add(MaxPooling2D(pool_size=(2, 2)))\n",
    "model.add(Dropout(0.25))\n",
    "\n",
    "\n",
    "# Flattening\n",
    "model.add(Flatten())\n",
    "\n",
    "# Fully connected layer 1st layer\n",
    "model.add(Dense(128,activation='relu'))\n",
    "model.add(BatchNormalization())\n",
    "model.add(Dropout(0.25))\n",
    "\n",
    "\n",
    "\n",
    "model.add(Dense(7, activation='softmax'))\n",
    "\n",
    "opt = Adam(lr=1e-3)\n",
    "model.compile(optimizer=opt, loss='categorical_crossentropy', metrics=['accuracy'])\n",
    "model.summary()"
   ]
  },
  {
   "cell_type": "code",
   "execution_count": 12,
   "metadata": {
    "colab": {
     "base_uri": "https://localhost:8080/",
     "height": 706
    },
    "colab_type": "code",
    "id": "a3-nkpbyEGIf",
    "outputId": "6508b3c7-d762-442f-fd8b-3b3dbc24dc2f"
   },
   "outputs": [
    {
     "name": "stdout",
     "output_type": "stream",
     "text": [
      "Epoch 1/20\n",
      "505/505 [==============================] - 13s 25ms/step - loss: 1.8560 - accuracy: 0.2988 - val_loss: 3.4286 - val_accuracy: 0.2711\n",
      "Epoch 2/20\n",
      "505/505 [==============================] - 12s 24ms/step - loss: 1.4902 - accuracy: 0.4304 - val_loss: 1.5077 - val_accuracy: 0.4383\n",
      "Epoch 3/20\n",
      "505/505 [==============================] - 12s 24ms/step - loss: 1.3264 - accuracy: 0.4947 - val_loss: 1.2604 - val_accuracy: 0.5199\n",
      "Epoch 4/20\n",
      "505/505 [==============================] - 12s 24ms/step - loss: 1.1951 - accuracy: 0.5471 - val_loss: 1.2287 - val_accuracy: 0.5208\n",
      "Epoch 5/20\n",
      "505/505 [==============================] - 12s 24ms/step - loss: 1.1013 - accuracy: 0.5845 - val_loss: 1.1938 - val_accuracy: 0.5464\n",
      "Epoch 6/20\n",
      "505/505 [==============================] - 12s 24ms/step - loss: 1.0360 - accuracy: 0.6119 - val_loss: 1.2347 - val_accuracy: 0.5255\n",
      "Epoch 7/20\n",
      "505/505 [==============================] - 12s 24ms/step - loss: 0.9768 - accuracy: 0.6350 - val_loss: 1.1373 - val_accuracy: 0.5662\n",
      "Epoch 8/20\n",
      "505/505 [==============================] - 12s 24ms/step - loss: 0.9028 - accuracy: 0.6625 - val_loss: 1.0586 - val_accuracy: 0.6041\n",
      "Epoch 9/20\n",
      "505/505 [==============================] - 12s 24ms/step - loss: 0.8256 - accuracy: 0.6946 - val_loss: 1.0967 - val_accuracy: 0.6016\n",
      "Epoch 10/20\n",
      "505/505 [==============================] - 12s 24ms/step - loss: 0.7519 - accuracy: 0.7229 - val_loss: 1.1430 - val_accuracy: 0.6099\n",
      "Epoch 11/20\n",
      "505/505 [==============================] - 12s 24ms/step - loss: 0.6742 - accuracy: 0.7523 - val_loss: 1.1503 - val_accuracy: 0.6077\n",
      "Epoch 12/20\n",
      "505/505 [==============================] - 12s 24ms/step - loss: 0.5920 - accuracy: 0.7846 - val_loss: 1.2221 - val_accuracy: 0.6010\n",
      "Epoch 13/20\n",
      "505/505 [==============================] - 12s 24ms/step - loss: 0.5144 - accuracy: 0.8121 - val_loss: 1.2521 - val_accuracy: 0.6163\n",
      "Epoch 14/20\n",
      "505/505 [==============================] - 12s 24ms/step - loss: 0.4450 - accuracy: 0.8383 - val_loss: 1.2717 - val_accuracy: 0.6183\n",
      "Epoch 15/20\n",
      "505/505 [==============================] - 12s 24ms/step - loss: 0.3876 - accuracy: 0.8590 - val_loss: 1.3032 - val_accuracy: 0.6305\n",
      "Epoch 16/20\n",
      "505/505 [==============================] - 12s 24ms/step - loss: 0.3422 - accuracy: 0.8783 - val_loss: 1.3340 - val_accuracy: 0.6381\n",
      "Epoch 17/20\n",
      "505/505 [==============================] - 12s 24ms/step - loss: 0.3059 - accuracy: 0.8924 - val_loss: 1.4198 - val_accuracy: 0.6258\n",
      "Epoch 18/20\n",
      "505/505 [==============================] - 12s 24ms/step - loss: 0.2770 - accuracy: 0.9006 - val_loss: 1.4634 - val_accuracy: 0.6280\n",
      "Epoch 19/20\n",
      "505/505 [==============================] - 12s 24ms/step - loss: 0.2520 - accuracy: 0.9094 - val_loss: 1.4860 - val_accuracy: 0.6241\n",
      "Epoch 20/20\n",
      "505/505 [==============================] - 12s 24ms/step - loss: 0.2243 - accuracy: 0.9195 - val_loss: 1.6056 - val_accuracy: 0.6280\n"
     ]
    },
    {
     "data": {
      "text/plain": [
       "<tensorflow.python.keras.callbacks.History at 0x7fc073bc7198>"
      ]
     },
     "execution_count": 12,
     "metadata": {
      "tags": []
     },
     "output_type": "execute_result"
    }
   ],
   "source": [
    "model.fit(x=x_train,y=y_train,epochs=20,batch_size=64,validation_data=(x_test,y_test))"
   ]
  },
  {
   "cell_type": "code",
   "execution_count": 0,
   "metadata": {
    "colab": {},
    "colab_type": "code",
    "id": "mwFn9yvbQ4cO"
   },
   "outputs": [],
   "source": [
    "losses=pd.DataFrame(model.history.history)"
   ]
  },
  {
   "cell_type": "code",
   "execution_count": 14,
   "metadata": {
    "colab": {
     "base_uri": "https://localhost:8080/",
     "height": 282
    },
    "colab_type": "code",
    "id": "UlTAnUnGRGe8",
    "outputId": "3f02095a-b831-4051-9eb2-723c7ee7564f"
   },
   "outputs": [
    {
     "data": {
      "text/plain": [
       "<matplotlib.axes._subplots.AxesSubplot at 0x7fc073e00a58>"
      ]
     },
     "execution_count": 14,
     "metadata": {
      "tags": []
     },
     "output_type": "execute_result"
    },
    {
     "data": {
      "image/png": "[encoded data removed]",
      "text/plain": [
       "<Figure size 432x288 with 1 Axes>"
      ]
     },
     "metadata": {
      "needs_background": "light",
      "tags": []
     },
     "output_type": "display_data"
    }
   ],
   "source": [
    "losses[['loss','val_loss']].plot()"
   ]
  },
  {
   "cell_type": "code",
   "execution_count": 15,
   "metadata": {
    "colab": {
     "base_uri": "https://localhost:8080/",
     "height": 282
    },
    "colab_type": "code",
    "id": "E3NJvpT1dbXC",
    "outputId": "ecb615bd-d389-46b2-edab-8157d8d95bcd"
   },
   "outputs": [
    {
     "data": {
      "text/plain": [
       "<matplotlib.axes._subplots.AxesSubplot at 0x7fc06035f898>"
      ]
     },
     "execution_count": 15,
     "metadata": {
      "tags": []
     },
     "output_type": "execute_result"
    },
    {
     "data": {
      "image/png": "[encoded data removed]",
      "text/plain": [
       "<Figure size 432x288 with 1 Axes>"
      ]
     },
     "metadata": {
      "needs_background": "light",
      "tags": []
     },
     "output_type": "display_data"
    }
   ],
   "source": [
    "losses[['accuracy','val_accuracy']].plot()"
   ]
  },
  {
   "cell_type": "code",
   "execution_count": 0,
   "metadata": {
    "colab": {},
    "colab_type": "code",
    "id": "E7LtV3HHOCjP"
   },
   "outputs": [],
   "source": [
    "true_y=np.argmax(y_test,axis=1)"
   ]
  },
  {
   "cell_type": "code",
   "execution_count": 17,
   "metadata": {
    "colab": {
     "base_uri": "https://localhost:8080/",
     "height": 87
    },
    "colab_type": "code",
    "id": "J7hYTZOqOsaA",
    "outputId": "19d26a42-60aa-4ac5-968c-0af77c4111c8"
   },
   "outputs": [
    {
     "name": "stdout",
     "output_type": "stream",
     "text": [
      "WARNING:tensorflow:From <ipython-input-17-2c3388166c57>:1: Sequential.predict_classes (from tensorflow.python.keras.engine.sequential) is deprecated and will be removed after 2021-01-01.\n",
      "Instructions for updating:\n",
      "Please use instead:* `np.argmax(model.predict(x), axis=-1)`,   if your model does multi-class classification   (e.g. if it uses a `softmax` last-layer activation).* `(model.predict(x) > 0.5).astype(\"int32\")`,   if your model does binary classification   (e.g. if it uses a `sigmoid` last-layer activation).\n"
     ]
    }
   ],
   "source": [
    "pred_y=model.predict_classes(x_test)"
   ]
  },
  {
   "cell_type": "markdown",
   "metadata": {},
   "source": [
    "*EVALUATION*"
   ]
  },
  {
   "cell_type": "code",
   "execution_count": 18,
   "metadata": {
    "colab": {
     "base_uri": "https://localhost:8080/",
     "height": 134
    },
    "colab_type": "code",
    "id": "jri-CQxSOvA9",
    "outputId": "3b2cea1d-4e94-415c-eb53-5b3e4fb7920a"
   },
   "outputs": [
    {
     "name": "stdout",
     "output_type": "stream",
     "text": [
      "[[225   2  63  32  87  16  65]\n",
      " [ 16  26   3   1   3   4   0]\n",
      " [ 50   1 243  15  72  52  54]\n",
      " [ 25   0  31 743  28  26  44]\n",
      " [ 66   2 104  29 291  17 111]\n",
      " [ 11   0  26  14   7 359   7]\n",
      " [ 52   0  48  41  93  17 367]]\n"
     ]
    }
   ],
   "source": [
    "con=confusion_matrix(true_y,pred_y)\n",
    "print(con)"
   ]
  },
  {
   "cell_type": "code",
   "execution_count": 19,
   "metadata": {
    "colab": {
     "base_uri": "https://localhost:8080/",
     "height": 34
    },
    "colab_type": "code",
    "id": "ozXsTlr4PCNQ",
    "outputId": "8d4c50b0-82a9-44dc-9ef0-2054ddabba02"
   },
   "outputs": [
    {
     "data": {
      "text/plain": [
       "0.6280300919476177"
      ]
     },
     "execution_count": 19,
     "metadata": {
      "tags": []
     },
     "output_type": "execute_result"
    }
   ],
   "source": [
    "accuracy_score(true_y,pred_y)"
   ]
  },
  {
   "cell_type": "code",
   "execution_count": 20,
   "metadata": {
    "colab": {
     "base_uri": "https://localhost:8080/",
     "height": 252
    },
    "colab_type": "code",
    "id": "9E_FwUBZPMFX",
    "outputId": "5fe048b3-abf5-4eb6-e26f-720a0e22b071"
   },
   "outputs": [
    {
     "name": "stdout",
     "output_type": "stream",
     "text": [
      "              precision    recall  f1-score   support\n",
      "\n",
      "           0       0.51      0.46      0.48       490\n",
      "           1       0.84      0.49      0.62        53\n",
      "           2       0.47      0.50      0.48       487\n",
      "           3       0.85      0.83      0.84       897\n",
      "           4       0.50      0.47      0.48       620\n",
      "           5       0.73      0.85      0.78       424\n",
      "           6       0.57      0.59      0.58       618\n",
      "\n",
      "    accuracy                           0.63      3589\n",
      "   macro avg       0.64      0.60      0.61      3589\n",
      "weighted avg       0.63      0.63      0.63      3589\n",
      "\n"
     ]
    }
   ],
   "source": [
    "print(classification_report(true_y,pred_y))"
   ]
  },
  {
   "cell_type": "markdown",
   "metadata": {},
   "source": [
    "*SAVING THE MODEL*"
   ]
  },
  {
   "cell_type": "code",
   "execution_count": 0,
   "metadata": {
    "colab": {},
    "colab_type": "code",
    "id": "7YqT_EOYbp6o"
   },
   "outputs": [],
   "source": [
    "with open(\"emotion.json\", \"w\") as json_file:\n",
    "    json_file.write(model.to_json())"
   ]
  }
 ],
 "metadata": {
  "accelerator": "GPU",
  "colab": {
   "name": "Assignment 2.ipynb",
   "provenance": []
  },
  "kernelspec": {
   "display_name": "Python 3",
   "language": "python",
   "name": "python3"
  },
  "language_info": {
   "codemirror_mode": {
    "name": "ipython",
    "version": 3
   },
   "file_extension": ".py",
   "mimetype": "text/x-python",
   "name": "python",
   "nbconvert_exporter": "python",
   "pygments_lexer": "ipython3",
   "version": "3.7.6"
  }
 },
 "nbformat": 4,
 "nbformat_minor": 1
}
