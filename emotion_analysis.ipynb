{
 "cells": [
  {
   "cell_type": "code",
   "execution_count": 0,
   "metadata": {
    "colab": {},
    "colab_type": "code",
    "id": "zRfZ_vXkEGH2"
   },
   "outputs": [],
   "source": [
    "# import dependencies\n",
    "import pandas as pd\n",
    "import numpy as np\n",
    "import matplotlib.pyplot as plt\n",
    "from sklearn.model_selection import train_test_split\n",
    "from sklearn.metrics import confusion_matrix,accuracy_score,classification_report\n",
    "from tensorflow.keras.layers import Dense,Conv2D,MaxPooling2D,BatchNormalization,Dropout,Flatten\n",
    "from tensorflow.keras.callbacks import ReduceLROnPlateau\n",
    "from tensorflow.keras.models import Sequential,load_model,save_model\n",
    "from tensorflow.keras.optimizers import Adam\n",
    "from tensorflow.keras import utils"
   ]
  },
  {
   "cell_type": "code",
   "execution_count": 0,
   "metadata": {
    "colab": {},
    "colab_type": "code",
    "id": "ErOyjfBcEGIE"
   },
   "outputs": [],
   "source": [
    "data=pd.read_csv('fer2013.csv')"
   ]
  },
  {
   "cell_type": "code",
   "execution_count": 3,
   "metadata": {
    "colab": {
     "base_uri": "https://localhost:8080/",
     "height": 185
    },
    "colab_type": "code",
    "id": "Ep2RcfJ3EGIH",
    "outputId": "10b18c4f-e85b-4471-9103-ae7d55c7ed61"
   },
   "outputs": [
    {
     "name": "stdout",
     "output_type": "stream",
     "text": [
      "<class 'pandas.core.frame.DataFrame'>\n",
      "RangeIndex: 35887 entries, 0 to 35886\n",
      "Data columns (total 3 columns):\n",
      " #   Column   Non-Null Count  Dtype \n",
      "---  ------   --------------  ----- \n",
      " 0   emotion  35887 non-null  int64 \n",
      " 1   pixels   35887 non-null  object\n",
      " 2   Usage    35887 non-null  object\n",
      "dtypes: int64(1), object(2)\n",
      "memory usage: 841.2+ KB\n"
     ]
    }
   ],
   "source": [
    "data.info()"
   ]
  },
  {
   "cell_type": "code",
   "execution_count": 0,
   "metadata": {
    "colab": {},
    "colab_type": "code",
    "id": "ij6iTOV3EGIL"
   },
   "outputs": [],
   "source": [
    "y = data.emotion.values\n",
    "y = utils.to_categorical(y)"
   ]
  },
  {
   "cell_type": "markdown",
   "metadata": {},
   "source": [
    "*PREPROCESSING*"
   ]
  },
  {
   "cell_type": "code",
   "execution_count": 0,
   "metadata": {
    "colab": {},
    "colab_type": "code",
    "id": "ymRdkCXAEGIO"
   },
   "outputs": [],
   "source": [
    "def process (data,size):\n",
    "    x=[]\n",
    "    for i in range(0,len(data)):\n",
    "        image=data[i].split(' ')\n",
    "        image=np.array(image).astype(float)\n",
    "        image=image/255\n",
    "        image= image.reshape(size)\n",
    "        x.append(image)\n",
    "    return x"
   ]
  },
  {
   "cell_type": "code",
   "execution_count": 0,
   "metadata": {
    "colab": {},
    "colab_type": "code",
    "id": "NqL3aqCFEGIR"
   },
   "outputs": [],
   "source": [
    "X=process(data.pixels,(48,48))"
   ]
  },
  {
   "cell_type": "code",
   "execution_count": 7,
   "metadata": {
    "colab": {
     "base_uri": "https://localhost:8080/",
     "height": 284
    },
    "colab_type": "code",
    "id": "-oSxEl7UEGIU",
    "outputId": "2e0ac68f-d292-43cb-d47b-34be8f8c1c48"
   },
   "outputs": [
    {
     "data": {
      "text/plain": [
       "<matplotlib.image.AxesImage at 0x7ff74a278400>"
      ]
     },
     "execution_count": 7,
     "metadata": {
      "tags": []
     },
     "output_type": "execute_result"
    },
    {
     "data": {
      "image/png": "[encoded data removed]",
      "text/plain": [
       "<Figure size 432x288 with 1 Axes>"
      ]
     },
     "metadata": {
      "needs_background": "light",
      "tags": []
     },
     "output_type": "display_data"
    }
   ],
   "source": [
    "plt.imshow(X[8774])"
   ]
  },
  {
   "cell_type": "code",
   "execution_count": 0,
   "metadata": {
    "colab": {},
    "colab_type": "code",
    "id": "zGiiNgrjEGIY"
   },
   "outputs": [],
   "source": [
    "X=np.expand_dims(X,3)"
   ]
  },
  {
   "cell_type": "code",
   "execution_count": 9,
   "metadata": {
    "colab": {
     "base_uri": "https://localhost:8080/",
     "height": 34
    },
    "colab_type": "code",
    "id": "QlcYuYG-EGIa",
    "outputId": "cd15b8a1-bfe6-4d32-a59c-b9b3a2f0830c"
   },
   "outputs": [
    {
     "data": {
      "text/plain": [
       "(48, 48, 1)"
      ]
     },
     "execution_count": 9,
     "metadata": {
      "tags": []
     },
     "output_type": "execute_result"
    }
   ],
   "source": [
    "X.shape[1:]"
   ]
  },
  {
   "cell_type": "code",
   "execution_count": 0,
   "metadata": {
    "colab": {},
    "colab_type": "code",
    "id": "owlG6rZGG_IC"
   },
   "outputs": [],
   "source": [
    "x_train,x_test,y_train,y_test=train_test_split(X,y,test_size=0.1,random_state=101)"
   ]
  },
  {
   "cell_type": "markdown",
   "metadata": {},
   "source": [
    "*MODEL BUILDING*"
   ]
  },
  {
   "cell_type": "code",
   "execution_count": 11,
   "metadata": {
    "colab": {
     "base_uri": "https://localhost:8080/",
     "height": 823
    },
    "colab_type": "code",
    "id": "k89Scr3YEGId",
    "outputId": "2a6b5043-54f8-471b-d94b-9549f55ceb5d"
   },
   "outputs": [
    {
     "name": "stdout",
     "output_type": "stream",
     "text": [
      "Model: \"sequential\"\n",
      "_________________________________________________________________\n",
      "Layer (type)                 Output Shape              Param #   \n",
      "=================================================================\n",
      "conv2d (Conv2D)              (None, 48, 48, 64)        1664      \n",
      "_________________________________________________________________\n",
      "conv2d_1 (Conv2D)            (None, 48, 48, 64)        102464    \n",
      "_________________________________________________________________\n",
      "batch_normalization (BatchNo (None, 48, 48, 64)        256       \n",
      "_________________________________________________________________\n",
      "max_pooling2d (MaxPooling2D) (None, 24, 24, 64)        0         \n",
      "_________________________________________________________________\n",
      "dropout (Dropout)            (None, 24, 24, 64)        0         \n",
      "_________________________________________________________________\n",
      "conv2d_2 (Conv2D)            (None, 24, 24, 128)       204928    \n",
      "_________________________________________________________________\n",
      "conv2d_3 (Conv2D)            (None, 24, 24, 128)       409728    \n",
      "_________________________________________________________________\n",
      "batch_normalization_1 (Batch (None, 24, 24, 128)       512       \n",
      "_________________________________________________________________\n",
      "max_pooling2d_1 (MaxPooling2 (None, 12, 12, 128)       0         \n",
      "_________________________________________________________________\n",
      "dropout_1 (Dropout)          (None, 12, 12, 128)       0         \n",
      "_________________________________________________________________\n",
      "conv2d_4 (Conv2D)            (None, 12, 12, 256)       295168    \n",
      "_________________________________________________________________\n",
      "conv2d_5 (Conv2D)            (None, 12, 12, 256)       1638656   \n",
      "_________________________________________________________________\n",
      "batch_normalization_2 (Batch (None, 12, 12, 256)       1024      \n",
      "_________________________________________________________________\n",
      "max_pooling2d_2 (MaxPooling2 (None, 6, 6, 256)         0         \n",
      "_________________________________________________________________\n",
      "dropout_2 (Dropout)          (None, 6, 6, 256)         0         \n",
      "_________________________________________________________________\n",
      "flatten (Flatten)            (None, 9216)              0         \n",
      "_________________________________________________________________\n",
      "dense (Dense)                (None, 128)               1179776   \n",
      "_________________________________________________________________\n",
      "batch_normalization_3 (Batch (None, 128)               512       \n",
      "_________________________________________________________________\n",
      "dropout_3 (Dropout)          (None, 128)               0         \n",
      "_________________________________________________________________\n",
      "dense_1 (Dense)              (None, 7)                 903       \n",
      "=================================================================\n",
      "Total params: 3,835,591\n",
      "Trainable params: 3,834,439\n",
      "Non-trainable params: 1,152\n",
      "_________________________________________________________________\n"
     ]
    }
   ],
   "source": [
    "# Initialising the CNN\n",
    "model = Sequential()\n",
    "\n",
    "# 1 - Convolution\n",
    "model.add(Conv2D(64,(5,5), padding='same',activation='relu',input_shape=X.shape[1:]))\n",
    "model.add(Conv2D(64,(5,5), padding='same',activation='relu'))\n",
    "model.add(BatchNormalization())\n",
    "model.add(MaxPooling2D(pool_size=(2, 2)))\n",
    "model.add(Dropout(0.25))\n",
    "\n",
    "# 2nd Convolution layer\n",
    "model.add(Conv2D(128,(5,5), padding='same',activation='relu'))\n",
    "model.add(Conv2D(128,(5,5), padding='same',activation='relu'))\n",
    "\n",
    "model.add(BatchNormalization())\n",
    "model.add(MaxPooling2D(pool_size=(2, 2)))\n",
    "model.add(Dropout(0.25))\n",
    "\n",
    "# 3rd Convolution layer\n",
    "model.add(Conv2D(256,(3,3), padding='same',activation='relu'))\n",
    "model.add(Conv2D(256,(5,5), padding='same',activation='relu'))\n",
    "\n",
    "model.add(BatchNormalization())\n",
    "model.add(MaxPooling2D(pool_size=(2, 2)))\n",
    "model.add(Dropout(0.25))\n",
    "\n",
    "\n",
    "# Flattening\n",
    "model.add(Flatten())\n",
    "\n",
    "# Fully connected layer 1st layer\n",
    "model.add(Dense(128,activation='relu'))\n",
    "model.add(BatchNormalization())\n",
    "model.add(Dropout(0.25))\n",
    "\n",
    "\n",
    "\n",
    "model.add(Dense(7, activation='softmax'))\n",
    "\n",
    "opt = Adam(lr=1e-3)\n",
    "model.compile(optimizer=opt, loss='categorical_crossentropy', metrics=['accuracy'])\n",
    "model.summary()"
   ]
  },
  {
   "cell_type": "code",
   "execution_count": 12,
   "metadata": {
    "colab": {
     "base_uri": "https://localhost:8080/",
     "height": 706
    },
    "colab_type": "code",
    "id": "a3-nkpbyEGIf",
    "outputId": "fee34b82-64e3-4594-d667-ea58a7fb4441"
   },
   "outputs": [
    {
     "name": "stdout",
     "output_type": "stream",
     "text": [
      "Epoch 1/20\n",
      "505/505 [==============================] - 13s 26ms/step - loss: 1.8415 - accuracy: 0.3051 - val_loss: 1.6752 - val_accuracy: 0.3310\n",
      "Epoch 2/20\n",
      "505/505 [==============================] - 12s 24ms/step - loss: 1.4996 - accuracy: 0.4251 - val_loss: 1.3429 - val_accuracy: 0.4804\n",
      "Epoch 3/20\n",
      "505/505 [==============================] - 12s 24ms/step - loss: 1.2860 - accuracy: 0.5098 - val_loss: 1.3298 - val_accuracy: 0.4915\n",
      "Epoch 4/20\n",
      "505/505 [==============================] - 12s 24ms/step - loss: 1.1729 - accuracy: 0.5567 - val_loss: 1.1954 - val_accuracy: 0.5364\n",
      "Epoch 5/20\n",
      "505/505 [==============================] - 12s 24ms/step - loss: 1.0889 - accuracy: 0.5899 - val_loss: 1.2423 - val_accuracy: 0.5534\n",
      "Epoch 6/20\n",
      "505/505 [==============================] - 12s 24ms/step - loss: 1.0162 - accuracy: 0.6199 - val_loss: 1.0695 - val_accuracy: 0.5996\n",
      "Epoch 7/20\n",
      "505/505 [==============================] - 12s 24ms/step - loss: 0.9603 - accuracy: 0.6434 - val_loss: 1.1222 - val_accuracy: 0.5773\n",
      "Epoch 8/20\n",
      "505/505 [==============================] - 12s 24ms/step - loss: 0.9007 - accuracy: 0.6653 - val_loss: 1.0877 - val_accuracy: 0.6024\n",
      "Epoch 9/20\n",
      "505/505 [==============================] - 12s 24ms/step - loss: 0.8186 - accuracy: 0.6988 - val_loss: 1.1186 - val_accuracy: 0.6043\n",
      "Epoch 10/20\n",
      "505/505 [==============================] - 12s 25ms/step - loss: 0.7311 - accuracy: 0.7278 - val_loss: 1.1234 - val_accuracy: 0.5965\n",
      "Epoch 11/20\n",
      "505/505 [==============================] - 12s 24ms/step - loss: 0.6508 - accuracy: 0.7620 - val_loss: 1.1357 - val_accuracy: 0.6016\n",
      "Epoch 12/20\n",
      "505/505 [==============================] - 12s 24ms/step - loss: 0.5665 - accuracy: 0.7956 - val_loss: 1.2047 - val_accuracy: 0.6102\n",
      "Epoch 13/20\n",
      "505/505 [==============================] - 12s 24ms/step - loss: 0.4849 - accuracy: 0.8229 - val_loss: 1.2012 - val_accuracy: 0.6250\n",
      "Epoch 14/20\n",
      "505/505 [==============================] - 12s 24ms/step - loss: 0.4160 - accuracy: 0.8500 - val_loss: 1.3762 - val_accuracy: 0.6007\n",
      "Epoch 15/20\n",
      "505/505 [==============================] - 12s 24ms/step - loss: 0.3650 - accuracy: 0.8677 - val_loss: 1.3736 - val_accuracy: 0.6119\n",
      "Epoch 16/20\n",
      "505/505 [==============================] - 12s 24ms/step - loss: 0.3189 - accuracy: 0.8864 - val_loss: 1.4666 - val_accuracy: 0.6116\n",
      "Epoch 17/20\n",
      "505/505 [==============================] - 12s 24ms/step - loss: 0.2739 - accuracy: 0.9027 - val_loss: 1.4304 - val_accuracy: 0.6236\n",
      "Epoch 18/20\n",
      "505/505 [==============================] - 12s 24ms/step - loss: 0.2495 - accuracy: 0.9106 - val_loss: 1.5733 - val_accuracy: 0.6024\n",
      "Epoch 19/20\n",
      "505/505 [==============================] - 12s 24ms/step - loss: 0.2395 - accuracy: 0.9156 - val_loss: 1.5492 - val_accuracy: 0.6216\n",
      "Epoch 20/20\n",
      "505/505 [==============================] - 12s 24ms/step - loss: 0.2188 - accuracy: 0.9232 - val_loss: 1.6201 - val_accuracy: 0.6367\n"
     ]
    },
    {
     "data": {
      "text/plain": [
       "<tensorflow.python.keras.callbacks.History at 0x7ff74a241198>"
      ]
     },
     "execution_count": 12,
     "metadata": {
      "tags": []
     },
     "output_type": "execute_result"
    }
   ],
   "source": [
    "model.fit(x=x_train,y=y_train,epochs=20,batch_size=64,validation_data=(x_test,y_test))"
   ]
  },
  {
   "cell_type": "code",
   "execution_count": 0,
   "metadata": {
    "colab": {},
    "colab_type": "code",
    "id": "mwFn9yvbQ4cO"
   },
   "outputs": [],
   "source": [
    "losses=pd.DataFrame(model.history.history)"
   ]
  },
  {
   "cell_type": "code",
   "execution_count": 14,
   "metadata": {
    "colab": {
     "base_uri": "https://localhost:8080/",
     "height": 282
    },
    "colab_type": "code",
    "id": "UlTAnUnGRGe8",
    "outputId": "a71c7af8-cb64-4ead-8666-8f54e5abed03"
   },
   "outputs": [
    {
     "data": {
      "text/plain": [
       "<matplotlib.axes._subplots.AxesSubplot at 0x7ff74a4b0748>"
      ]
     },
     "execution_count": 14,
     "metadata": {
      "tags": []
     },
     "output_type": "execute_result"
    },
    {
     "data": {
      "image/png": "[encoded data removed]",
      "text/plain": [
       "<Figure size 432x288 with 1 Axes>"
      ]
     },
     "metadata": {
      "needs_background": "light",
      "tags": []
     },
     "output_type": "display_data"
    }
   ],
   "source": [
    "losses[['loss','val_loss']].plot()"
   ]
  },
  {
   "cell_type": "code",
   "execution_count": 15,
   "metadata": {
    "colab": {
     "base_uri": "https://localhost:8080/",
     "height": 282
    },
    "colab_type": "code",
    "id": "E3NJvpT1dbXC",
    "outputId": "ecc0bb87-9ba6-4390-bf38-f203738d2a0a"
   },
   "outputs": [
    {
     "data": {
      "text/plain": [
       "<matplotlib.axes._subplots.AxesSubplot at 0x7ff74007d518>"
      ]
     },
     "execution_count": 15,
     "metadata": {
      "tags": []
     },
     "output_type": "execute_result"
    },
    {
     "data": {
      "image/png": "[encoded data removed]",
      "text/plain": [
       "<Figure size 432x288 with 1 Axes>"
      ]
     },
     "metadata": {
      "needs_background": "light",
      "tags": []
     },
     "output_type": "display_data"
    }
   ],
   "source": [
    "losses[['accuracy','val_accuracy']].plot()"
   ]
  },
  {
   "cell_type": "code",
   "execution_count": 0,
   "metadata": {
    "colab": {},
    "colab_type": "code",
    "id": "E7LtV3HHOCjP"
   },
   "outputs": [],
   "source": [
    "true_y=np.argmax(y_test,axis=1)"
   ]
  },
  {
   "cell_type": "code",
   "execution_count": 17,
   "metadata": {
    "colab": {
     "base_uri": "https://localhost:8080/",
     "height": 87
    },
    "colab_type": "code",
    "id": "J7hYTZOqOsaA",
    "outputId": "5d6ca30d-25dd-47a9-91a9-d350947241da"
   },
   "outputs": [
    {
     "name": "stdout",
     "output_type": "stream",
     "text": [
      "WARNING:tensorflow:From <ipython-input-17-2c3388166c57>:1: Sequential.predict_classes (from tensorflow.python.keras.engine.sequential) is deprecated and will be removed after 2021-01-01.\n",
      "Instructions for updating:\n",
      "Please use instead:* `np.argmax(model.predict(x), axis=-1)`,   if your model does multi-class classification   (e.g. if it uses a `softmax` last-layer activation).* `(model.predict(x) > 0.5).astype(\"int32\")`,   if your model does binary classification   (e.g. if it uses a `sigmoid` last-layer activation).\n"
     ]
    }
   ],
   "source": [
    "pred_y=model.predict_classes(x_test)"
   ]
  },
  {
   "cell_type": "markdown",
   "metadata": {},
   "source": [
    "*EVALUVATION*"
   ]
  },
  {
   "cell_type": "code",
   "execution_count": 18,
   "metadata": {
    "colab": {
     "base_uri": "https://localhost:8080/",
     "height": 134
    },
    "colab_type": "code",
    "id": "jri-CQxSOvA9",
    "outputId": "ee2bbad7-bcfc-47b4-e553-7a28bd97d28a"
   },
   "outputs": [
    {
     "name": "stdout",
     "output_type": "stream",
     "text": [
      "[[189   1  40  51 113  11  85]\n",
      " [  8  30   3   4   4   2   2]\n",
      " [ 41   2 218  36 109  40  41]\n",
      " [ 21   1  13 776  48  11  27]\n",
      " [ 41   0  72  43 352   8 104]\n",
      " [ 13   0  28  16  17 333  17]\n",
      " [ 24   1  36  66 100   4 387]]\n"
     ]
    }
   ],
   "source": [
    "con=confusion_matrix(true_y,pred_y)\n",
    "print(con)"
   ]
  },
  {
   "cell_type": "code",
   "execution_count": 19,
   "metadata": {
    "colab": {
     "base_uri": "https://localhost:8080/",
     "height": 34
    },
    "colab_type": "code",
    "id": "ozXsTlr4PCNQ",
    "outputId": "7968c3a7-16c8-4a90-8910-8ac97c780c20"
   },
   "outputs": [
    {
     "data": {
      "text/plain": [
       "0.636667595430482"
      ]
     },
     "execution_count": 19,
     "metadata": {
      "tags": []
     },
     "output_type": "execute_result"
    }
   ],
   "source": [
    "accuracy_score(true_y,pred_y)"
   ]
  },
  {
   "cell_type": "code",
   "execution_count": 20,
   "metadata": {
    "colab": {
     "base_uri": "https://localhost:8080/",
     "height": 252
    },
    "colab_type": "code",
    "id": "9E_FwUBZPMFX",
    "outputId": "8d8325d2-f929-43bb-d6ec-10c3d7892ff9"
   },
   "outputs": [
    {
     "name": "stdout",
     "output_type": "stream",
     "text": [
      "              precision    recall  f1-score   support\n",
      "\n",
      "           0       0.56      0.39      0.46       490\n",
      "           1       0.86      0.57      0.68        53\n",
      "           2       0.53      0.45      0.49       487\n",
      "           3       0.78      0.87      0.82       897\n",
      "           4       0.47      0.57      0.52       620\n",
      "           5       0.81      0.79      0.80       424\n",
      "           6       0.58      0.63      0.60       618\n",
      "\n",
      "    accuracy                           0.64      3589\n",
      "   macro avg       0.66      0.61      0.62      3589\n",
      "weighted avg       0.64      0.64      0.63      3589\n",
      "\n"
     ]
    }
   ],
   "source": [
    "print(classification_report(true_y,pred_y))"
   ]
  },
  {
   "cell_type": "code",
   "execution_count": 0,
   "metadata": {
    "colab": {},
    "colab_type": "code",
    "id": "7YqT_EOYbp6o"
   },
   "outputs": [],
   "source": [
    "model.save('emotion.h5')"
   ]
  }
 ],
 "metadata": {
  "accelerator": "GPU",
  "colab": {
   "name": "Assignment 2.ipynb",
   "provenance": []
  },
  "kernelspec": {
   "display_name": "Python 3",
   "language": "python",
   "name": "python3"
  },
  "language_info": {
   "codemirror_mode": {
    "name": "ipython",
    "version": 3
   },
   "file_extension": ".py",
   "mimetype": "text/x-python",
   "name": "python",
   "nbconvert_exporter": "python",
   "pygments_lexer": "ipython3",
   "version": "3.7.6"
  }
 },
 "nbformat": 4,
 "nbformat_minor": 1
}
